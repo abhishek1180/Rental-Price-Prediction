{
 "cells": [
  {
   "cell_type": "markdown",
   "metadata": {},
   "source": [
    "host_response_rate: the response rate of the host\n",
    "\n",
    "host_acceptance_rate: number of requests to the host that convert to rentals\n",
    "\n",
    "host_listings_count: number of other listings the host has\n",
    "\n",
    "latitude: latitude dimension of the geographic coordinates\n",
    "\n",
    "longitude: longitude part of the coordinates\n",
    "\n",
    "city: the city the living space resides\n",
    "\n",
    "zipcode: the zip code the living space resides\n",
    "\n",
    "state: the state the living space resides\n",
    "\n",
    "accommodates: the number of guests the rental can accommodate\n",
    "\n",
    "room_type: the type of living space (Private room, Shared room or Entire home/apt\n",
    "\n",
    "bedrooms: number of bedrooms included in the rental\n",
    "\n",
    "bathrooms: number of bathrooms included in the rental\n",
    "\n",
    "beds: number of beds included in the rental\n",
    "\n",
    "price: nightly price for the rental\n",
    "\n",
    "cleaning_fee: additional fee used for cleaning the living space after the guest leaves\n",
    "\n",
    "security_deposit: refundable security deposit, in case of damages\n",
    "\n",
    "minimum_nights: minimum number of nights a guest can stay for the rental\n",
    "\n",
    "maximum_nights: maximum number of nights a guest can stay for the rental\n",
    "\n",
    "number_of_reviews: number of reviews that previous guests have left"
   ]
  },
  {
   "cell_type": "code",
   "execution_count": 1,
   "metadata": {},
   "outputs": [
    {
     "data": {
      "text/html": [
       "<div>\n",
       "<style scoped>\n",
       "    .dataframe tbody tr th:only-of-type {\n",
       "        vertical-align: middle;\n",
       "    }\n",
       "\n",
       "    .dataframe tbody tr th {\n",
       "        vertical-align: top;\n",
       "    }\n",
       "\n",
       "    .dataframe thead th {\n",
       "        text-align: right;\n",
       "    }\n",
       "</style>\n",
       "<table border=\"1\" class=\"dataframe\">\n",
       "  <thead>\n",
       "    <tr style=\"text-align: right;\">\n",
       "      <th></th>\n",
       "      <th>host_response_rate</th>\n",
       "      <th>host_acceptance_rate</th>\n",
       "      <th>host_listings_count</th>\n",
       "      <th>city</th>\n",
       "      <th>state</th>\n",
       "      <th>zipcode</th>\n",
       "      <th>latitude</th>\n",
       "      <th>longitude</th>\n",
       "      <th>room_type</th>\n",
       "      <th>accommodates</th>\n",
       "      <th>bathrooms</th>\n",
       "      <th>bedrooms</th>\n",
       "      <th>beds</th>\n",
       "      <th>price</th>\n",
       "      <th>security_deposit</th>\n",
       "      <th>cleaning_fee</th>\n",
       "      <th>minimum_nights</th>\n",
       "      <th>maximum_nights</th>\n",
       "      <th>number_of_reviews</th>\n",
       "    </tr>\n",
       "  </thead>\n",
       "  <tbody>\n",
       "    <tr>\n",
       "      <td>0</td>\n",
       "      <td>92%</td>\n",
       "      <td>91%</td>\n",
       "      <td>26</td>\n",
       "      <td>Washington</td>\n",
       "      <td>DC</td>\n",
       "      <td>20003</td>\n",
       "      <td>38.890046</td>\n",
       "      <td>-77.002808</td>\n",
       "      <td>Entire home/apt</td>\n",
       "      <td>4</td>\n",
       "      <td>1.0</td>\n",
       "      <td>1.0</td>\n",
       "      <td>2.0</td>\n",
       "      <td>$160.00</td>\n",
       "      <td>$100.00</td>\n",
       "      <td>$115.00</td>\n",
       "      <td>1</td>\n",
       "      <td>1125</td>\n",
       "      <td>0</td>\n",
       "    </tr>\n",
       "    <tr>\n",
       "      <td>1</td>\n",
       "      <td>90%</td>\n",
       "      <td>100%</td>\n",
       "      <td>1</td>\n",
       "      <td>Washington</td>\n",
       "      <td>DC</td>\n",
       "      <td>20003</td>\n",
       "      <td>38.880413</td>\n",
       "      <td>-76.990485</td>\n",
       "      <td>Entire home/apt</td>\n",
       "      <td>6</td>\n",
       "      <td>3.0</td>\n",
       "      <td>3.0</td>\n",
       "      <td>3.0</td>\n",
       "      <td>$350.00</td>\n",
       "      <td>NaN</td>\n",
       "      <td>$100.00</td>\n",
       "      <td>2</td>\n",
       "      <td>30</td>\n",
       "      <td>65</td>\n",
       "    </tr>\n",
       "    <tr>\n",
       "      <td>2</td>\n",
       "      <td>90%</td>\n",
       "      <td>100%</td>\n",
       "      <td>2</td>\n",
       "      <td>Hyattsville</td>\n",
       "      <td>MD</td>\n",
       "      <td>20782</td>\n",
       "      <td>38.955291</td>\n",
       "      <td>-76.986006</td>\n",
       "      <td>Private room</td>\n",
       "      <td>1</td>\n",
       "      <td>2.0</td>\n",
       "      <td>1.0</td>\n",
       "      <td>1.0</td>\n",
       "      <td>$50.00</td>\n",
       "      <td>NaN</td>\n",
       "      <td>NaN</td>\n",
       "      <td>2</td>\n",
       "      <td>1125</td>\n",
       "      <td>1</td>\n",
       "    </tr>\n",
       "  </tbody>\n",
       "</table>\n",
       "</div>"
      ],
      "text/plain": [
       "  host_response_rate host_acceptance_rate  host_listings_count         city  \\\n",
       "0                92%                  91%                   26   Washington   \n",
       "1                90%                 100%                    1   Washington   \n",
       "2                90%                 100%                    2  Hyattsville   \n",
       "\n",
       "  state zipcode   latitude  longitude        room_type  accommodates  \\\n",
       "0    DC   20003  38.890046 -77.002808  Entire home/apt             4   \n",
       "1    DC   20003  38.880413 -76.990485  Entire home/apt             6   \n",
       "2    MD   20782  38.955291 -76.986006     Private room             1   \n",
       "\n",
       "   bathrooms  bedrooms  beds     price security_deposit cleaning_fee  \\\n",
       "0        1.0       1.0   2.0  $160.00          $100.00      $115.00    \n",
       "1        3.0       3.0   3.0  $350.00               NaN     $100.00    \n",
       "2        2.0       1.0   1.0   $50.00               NaN          NaN   \n",
       "\n",
       "   minimum_nights  maximum_nights  number_of_reviews  \n",
       "0               1            1125                  0  \n",
       "1               2              30                 65  \n",
       "2               2            1125                  1  "
      ]
     },
     "execution_count": 1,
     "metadata": {},
     "output_type": "execute_result"
    }
   ],
   "source": [
    "import pandas as pd\n",
    "import numpy as np\n",
    "import matplotlib.pyplot as plt\n",
    "import seaborn as sns\n",
    "from pandas import read_csv\n",
    "d_frame=pd.read_csv(data source)\n",
    "d_frame.head(3)\n",
    "# Each row in the dataset is a specific listing that's available for renting on AirBnB in the Washington, D.C. area."
   ]
  },
  {
   "cell_type": "code",
   "execution_count": 2,
   "metadata": {
    "scrolled": true
   },
   "outputs": [
    {
     "data": {
      "text/plain": [
       "host_response_rate       object\n",
       "host_acceptance_rate     object\n",
       "host_listings_count       int64\n",
       "city                     object\n",
       "state                    object\n",
       "zipcode                  object\n",
       "latitude                float64\n",
       "longitude               float64\n",
       "room_type                object\n",
       "accommodates              int64\n",
       "bathrooms               float64\n",
       "bedrooms                float64\n",
       "beds                    float64\n",
       "price                    object\n",
       "security_deposit         object\n",
       "cleaning_fee             object\n",
       "minimum_nights            int64\n",
       "maximum_nights            int64\n",
       "number_of_reviews         int64\n",
       "dtype: object"
      ]
     },
     "execution_count": 2,
     "metadata": {},
     "output_type": "execute_result"
    }
   ],
   "source": [
    "d_frame.dtypes"
   ]
  },
  {
   "cell_type": "code",
   "execution_count": 3,
   "metadata": {},
   "outputs": [
    {
     "data": {
      "text/plain": [
       "host_response_rate       434\n",
       "host_acceptance_rate     614\n",
       "zipcode                    9\n",
       "bathrooms                 27\n",
       "bedrooms                  21\n",
       "beds                      11\n",
       "security_deposit        2297\n",
       "cleaning_fee            1388\n",
       "dtype: int64"
      ]
     },
     "execution_count": 3,
     "metadata": {},
     "output_type": "execute_result"
    }
   ],
   "source": [
    "null_columns=d_frame.columns[d_frame.isnull().any()]\n",
    "d_frame[null_columns]\n",
    "d_frame[null_columns].isnull().sum()"
   ]
  },
  {
   "cell_type": "code",
   "execution_count": 4,
   "metadata": {},
   "outputs": [],
   "source": [
    "d_frame1=d_frame.drop(['security_deposit','cleaning_fee','zipcode'],axis=1)"
   ]
  },
  {
   "cell_type": "code",
   "execution_count": 5,
   "metadata": {
    "scrolled": false
   },
   "outputs": [
    {
     "data": {
      "text/plain": [
       "host_response_rate      11.657266\n",
       "host_acceptance_rate    16.492076\n",
       "host_listings_count      0.000000\n",
       "city                     0.000000\n",
       "state                    0.000000\n",
       "latitude                 0.000000\n",
       "longitude                0.000000\n",
       "room_type                0.000000\n",
       "accommodates             0.000000\n",
       "bathrooms                0.725222\n",
       "bedrooms                 0.564061\n",
       "beds                     0.295461\n",
       "price                    0.000000\n",
       "minimum_nights           0.000000\n",
       "maximum_nights           0.000000\n",
       "number_of_reviews        0.000000\n",
       "dtype: float64"
      ]
     },
     "execution_count": 5,
     "metadata": {},
     "output_type": "execute_result"
    }
   ],
   "source": [
    "# missing value percent\n",
    "mis_val_percent = 100 * d_frame1.isnull().sum() / len(d_frame1)\n",
    "mis_val_percent"
   ]
  },
  {
   "cell_type": "code",
   "execution_count": 6,
   "metadata": {},
   "outputs": [
    {
     "data": {
      "text/plain": [
       "1000.0"
      ]
     },
     "execution_count": 6,
     "metadata": {},
     "output_type": "execute_result"
    }
   ],
   "source": [
    "d_frame1['price']= d_frame1.price.str.replace(',','')\n",
    "d_frame1['price']= d_frame1.price.str.replace('$','').astype(float)\n",
    "d_frame1['price'].loc[367]     # previous it was 1,000 $"
   ]
  },
  {
   "cell_type": "code",
   "execution_count": 7,
   "metadata": {},
   "outputs": [],
   "source": [
    "d_frame1['host_response_rate']= d_frame1.host_response_rate.str.replace('%','').astype(float)\n",
    "d_frame1['host_acceptance_rate']= d_frame1.host_acceptance_rate.str.replace('%','').astype(float)"
   ]
  },
  {
   "cell_type": "code",
   "execution_count": 8,
   "metadata": {},
   "outputs": [
    {
     "data": {
      "text/plain": [
       "host_response_rate        91\n",
       "host_acceptance_rate      86\n",
       "host_listings_count       13\n",
       "latitude                  38\n",
       "longitude                -77\n",
       "accommodates               3\n",
       "bathrooms                  1\n",
       "bedrooms                   1\n",
       "beds                       1\n",
       "price                    149\n",
       "minimum_nights             2\n",
       "maximum_nights          3491\n",
       "number_of_reviews         15\n",
       "dtype: int32"
      ]
     },
     "execution_count": 8,
     "metadata": {},
     "output_type": "execute_result"
    }
   ],
   "source": [
    "d_frame1.mean().astype(int)"
   ]
  },
  {
   "cell_type": "code",
   "execution_count": 9,
   "metadata": {
    "scrolled": true
   },
   "outputs": [
    {
     "data": {
      "text/plain": [
       "host_response_rate       100.000000\n",
       "host_acceptance_rate      98.000000\n",
       "host_listings_count        1.000000\n",
       "latitude                  38.913375\n",
       "longitude                -77.026410\n",
       "accommodates               2.000000\n",
       "bathrooms                  1.000000\n",
       "bedrooms                   1.000000\n",
       "beds                       1.000000\n",
       "price                    115.000000\n",
       "minimum_nights             2.000000\n",
       "maximum_nights          1125.000000\n",
       "number_of_reviews          4.000000\n",
       "dtype: float64"
      ]
     },
     "execution_count": 9,
     "metadata": {},
     "output_type": "execute_result"
    }
   ],
   "source": [
    "d_frame1.median()"
   ]
  },
  {
   "cell_type": "code",
   "execution_count": 10,
   "metadata": {},
   "outputs": [],
   "source": [
    "mean1=int(d_frame1['host_response_rate'].mean(skipna=True))\n",
    "mean2=int(d_frame1['host_acceptance_rate'].mean(skipna=True))\n",
    "mean3=int(d_frame1['bathrooms'].mean(skipna=True))\n",
    "mean4=int(d_frame1['bedrooms'].mean(skipna=True))\n",
    "mean5=int(d_frame1['beds'].mean(skipna=True))             "
   ]
  },
  {
   "cell_type": "code",
   "execution_count": 11,
   "metadata": {},
   "outputs": [],
   "source": [
    "d_frame1['host_response_rate']=d_frame1['host_response_rate'].replace(np.NaN, mean1)\n",
    "d_frame1['host_acceptance_rate']=d_frame1['host_acceptance_rate'].replace(np.NaN, mean2)\n",
    "d_frame1['bathrooms']=d_frame1['bathrooms'].replace(np.NaN, mean3)\n",
    "d_frame1['bedrooms']=d_frame1['bedrooms'].replace(np.NaN, mean4)\n",
    "d_frame1['beds']=d_frame1['beds'].replace(np.NaN, mean5)"
   ]
  },
  {
   "cell_type": "code",
   "execution_count": 12,
   "metadata": {},
   "outputs": [],
   "source": [
    "d_frame1['city']=d_frame1['city'].replace(['Washington, D.C.','Washington '], 'Washington')\n",
    "d_frame1['state']=d_frame1['state'].replace('Washington DC', 'DC')\n",
    "d_frame1['city']=d_frame1['city'].replace('Columbia Heights, middle of DC!', 'Columbia Heights')"
   ]
  },
  {
   "cell_type": "code",
   "execution_count": 13,
   "metadata": {
    "scrolled": false
   },
   "outputs": [
    {
     "data": {
      "text/plain": [
       "array(['Washington', 'Hyattsville', 'Silver Spring', 'Mount Rainier',\n",
       "       'Capitol Heights', 'Takoma Park', 'Annapolis', 'Arlington',\n",
       "       'Dupont Circle', 'chevy chase', 'New York', 'Adams Morgan',\n",
       "       'Columbia Heights', 'Capitol Hill, Washington'], dtype=object)"
      ]
     },
     "execution_count": 13,
     "metadata": {},
     "output_type": "execute_result"
    }
   ],
   "source": [
    "d_frame1.city.unique()"
   ]
  },
  {
   "cell_type": "code",
   "execution_count": 14,
   "metadata": {
    "scrolled": false
   },
   "outputs": [
    {
     "data": {
      "text/html": [
       "<div>\n",
       "<style scoped>\n",
       "    .dataframe tbody tr th:only-of-type {\n",
       "        vertical-align: middle;\n",
       "    }\n",
       "\n",
       "    .dataframe tbody tr th {\n",
       "        vertical-align: top;\n",
       "    }\n",
       "\n",
       "    .dataframe thead th {\n",
       "        text-align: right;\n",
       "    }\n",
       "</style>\n",
       "<table border=\"1\" class=\"dataframe\">\n",
       "  <thead>\n",
       "    <tr style=\"text-align: right;\">\n",
       "      <th></th>\n",
       "      <th></th>\n",
       "    </tr>\n",
       "    <tr>\n",
       "      <th>state</th>\n",
       "      <th>city</th>\n",
       "    </tr>\n",
       "  </thead>\n",
       "  <tbody>\n",
       "    <tr>\n",
       "      <td rowspan=\"5\" valign=\"top\">DC</td>\n",
       "      <td>Adams Morgan</td>\n",
       "    </tr>\n",
       "    <tr>\n",
       "      <td>Capitol Hill, Washington</td>\n",
       "    </tr>\n",
       "    <tr>\n",
       "      <td>Columbia Heights</td>\n",
       "    </tr>\n",
       "    <tr>\n",
       "      <td>Dupont Circle</td>\n",
       "    </tr>\n",
       "    <tr>\n",
       "      <td>Washington</td>\n",
       "    </tr>\n",
       "    <tr>\n",
       "      <td rowspan=\"7\" valign=\"top\">MD</td>\n",
       "      <td>Annapolis</td>\n",
       "    </tr>\n",
       "    <tr>\n",
       "      <td>Capitol Heights</td>\n",
       "    </tr>\n",
       "    <tr>\n",
       "      <td>Hyattsville</td>\n",
       "    </tr>\n",
       "    <tr>\n",
       "      <td>Mount Rainier</td>\n",
       "    </tr>\n",
       "    <tr>\n",
       "      <td>Silver Spring</td>\n",
       "    </tr>\n",
       "    <tr>\n",
       "      <td>Takoma Park</td>\n",
       "    </tr>\n",
       "    <tr>\n",
       "      <td>chevy chase</td>\n",
       "    </tr>\n",
       "    <tr>\n",
       "      <td>NY</td>\n",
       "      <td>New York</td>\n",
       "    </tr>\n",
       "    <tr>\n",
       "      <td>VA</td>\n",
       "      <td>Arlington</td>\n",
       "    </tr>\n",
       "  </tbody>\n",
       "</table>\n",
       "</div>"
      ],
      "text/plain": [
       "Empty DataFrame\n",
       "Columns: []\n",
       "Index: [(DC, Adams Morgan), (DC, Capitol Hill, Washington), (DC, Columbia Heights), (DC, Dupont Circle), (DC, Washington), (MD, Annapolis), (MD, Capitol Heights), (MD, Hyattsville), (MD, Mount Rainier), (MD, Silver Spring), (MD, Takoma Park), (MD, chevy chase), (NY, New York), (VA, Arlington)]"
      ]
     },
     "execution_count": 14,
     "metadata": {},
     "output_type": "execute_result"
    }
   ],
   "source": [
    "df=d_frame1[['city','state']].groupby(['state','city'])\n",
    "df.first()"
   ]
  },
  {
   "cell_type": "code",
   "execution_count": 15,
   "metadata": {
    "scrolled": true
   },
   "outputs": [
    {
     "data": {
      "text/plain": [
       "Entire home/apt    2419\n",
       "Private room       1202\n",
       "Shared room         102\n",
       "Name: room_type, dtype: int64"
      ]
     },
     "execution_count": 15,
     "metadata": {},
     "output_type": "execute_result"
    }
   ],
   "source": [
    "# ordinal variable\n",
    "d_frame1.room_type.value_counts()"
   ]
  },
  {
   "cell_type": "code",
   "execution_count": 16,
   "metadata": {},
   "outputs": [],
   "source": [
    "scale_mapper = {'Shared room':0, 'Private room':1, 'Entire home/apt':2}\n",
    "d_frame1['room_type'] = d_frame1['room_type'].replace(scale_mapper).astype('int')"
   ]
  },
  {
   "cell_type": "code",
   "execution_count": 17,
   "metadata": {
    "scrolled": true
   },
   "outputs": [
    {
     "data": {
      "text/html": [
       "<div>\n",
       "<style scoped>\n",
       "    .dataframe tbody tr th:only-of-type {\n",
       "        vertical-align: middle;\n",
       "    }\n",
       "\n",
       "    .dataframe tbody tr th {\n",
       "        vertical-align: top;\n",
       "    }\n",
       "\n",
       "    .dataframe thead th {\n",
       "        text-align: right;\n",
       "    }\n",
       "</style>\n",
       "<table border=\"1\" class=\"dataframe\">\n",
       "  <thead>\n",
       "    <tr style=\"text-align: right;\">\n",
       "      <th></th>\n",
       "      <th>host_response_rate</th>\n",
       "      <th>host_acceptance_rate</th>\n",
       "      <th>host_listings_count</th>\n",
       "      <th>latitude</th>\n",
       "      <th>longitude</th>\n",
       "      <th>room_type</th>\n",
       "      <th>accommodates</th>\n",
       "      <th>bathrooms</th>\n",
       "      <th>bedrooms</th>\n",
       "      <th>beds</th>\n",
       "      <th>price</th>\n",
       "      <th>minimum_nights</th>\n",
       "      <th>maximum_nights</th>\n",
       "      <th>number_of_reviews</th>\n",
       "    </tr>\n",
       "  </thead>\n",
       "  <tbody>\n",
       "    <tr>\n",
       "      <td>count</td>\n",
       "      <td>3723.000000</td>\n",
       "      <td>3723.000000</td>\n",
       "      <td>3723.000000</td>\n",
       "      <td>3723.000000</td>\n",
       "      <td>3723.000000</td>\n",
       "      <td>3723.000000</td>\n",
       "      <td>3723.000000</td>\n",
       "      <td>3723.000000</td>\n",
       "      <td>3723.000000</td>\n",
       "      <td>3723.000000</td>\n",
       "      <td>3723.000000</td>\n",
       "      <td>3723.000000</td>\n",
       "      <td>3.723000e+03</td>\n",
       "      <td>3723.000000</td>\n",
       "    </tr>\n",
       "    <tr>\n",
       "      <td>mean</td>\n",
       "      <td>91.327693</td>\n",
       "      <td>86.295729</td>\n",
       "      <td>13.517325</td>\n",
       "      <td>38.913967</td>\n",
       "      <td>-77.023294</td>\n",
       "      <td>1.622348</td>\n",
       "      <td>3.195004</td>\n",
       "      <td>1.254499</td>\n",
       "      <td>1.208971</td>\n",
       "      <td>1.641418</td>\n",
       "      <td>149.165995</td>\n",
       "      <td>2.250067</td>\n",
       "      <td>3.491788e+03</td>\n",
       "      <td>15.306742</td>\n",
       "    </tr>\n",
       "    <tr>\n",
       "      <td>std</td>\n",
       "      <td>14.009537</td>\n",
       "      <td>19.399858</td>\n",
       "      <td>64.534408</td>\n",
       "      <td>0.021647</td>\n",
       "      <td>0.026951</td>\n",
       "      <td>0.538427</td>\n",
       "      <td>2.012216</td>\n",
       "      <td>0.583816</td>\n",
       "      <td>0.837626</td>\n",
       "      <td>1.180885</td>\n",
       "      <td>140.110699</td>\n",
       "      <td>3.622879</td>\n",
       "      <td>1.638860e+05</td>\n",
       "      <td>29.645586</td>\n",
       "    </tr>\n",
       "    <tr>\n",
       "      <td>min</td>\n",
       "      <td>7.000000</td>\n",
       "      <td>0.000000</td>\n",
       "      <td>1.000000</td>\n",
       "      <td>38.825061</td>\n",
       "      <td>-77.110525</td>\n",
       "      <td>0.000000</td>\n",
       "      <td>1.000000</td>\n",
       "      <td>0.000000</td>\n",
       "      <td>0.000000</td>\n",
       "      <td>1.000000</td>\n",
       "      <td>10.000000</td>\n",
       "      <td>1.000000</td>\n",
       "      <td>1.000000e+00</td>\n",
       "      <td>0.000000</td>\n",
       "    </tr>\n",
       "    <tr>\n",
       "      <td>25%</td>\n",
       "      <td>90.000000</td>\n",
       "      <td>85.000000</td>\n",
       "      <td>1.000000</td>\n",
       "      <td>38.901789</td>\n",
       "      <td>-77.039859</td>\n",
       "      <td>1.000000</td>\n",
       "      <td>2.000000</td>\n",
       "      <td>1.000000</td>\n",
       "      <td>1.000000</td>\n",
       "      <td>1.000000</td>\n",
       "      <td>85.000000</td>\n",
       "      <td>1.000000</td>\n",
       "      <td>1.200000e+02</td>\n",
       "      <td>1.000000</td>\n",
       "    </tr>\n",
       "    <tr>\n",
       "      <td>50%</td>\n",
       "      <td>99.000000</td>\n",
       "      <td>92.000000</td>\n",
       "      <td>1.000000</td>\n",
       "      <td>38.913375</td>\n",
       "      <td>-77.026410</td>\n",
       "      <td>2.000000</td>\n",
       "      <td>2.000000</td>\n",
       "      <td>1.000000</td>\n",
       "      <td>1.000000</td>\n",
       "      <td>1.000000</td>\n",
       "      <td>115.000000</td>\n",
       "      <td>2.000000</td>\n",
       "      <td>1.125000e+03</td>\n",
       "      <td>4.000000</td>\n",
       "    </tr>\n",
       "    <tr>\n",
       "      <td>75%</td>\n",
       "      <td>100.000000</td>\n",
       "      <td>100.000000</td>\n",
       "      <td>3.000000</td>\n",
       "      <td>38.926509</td>\n",
       "      <td>-77.002798</td>\n",
       "      <td>2.000000</td>\n",
       "      <td>4.000000</td>\n",
       "      <td>1.000000</td>\n",
       "      <td>1.000000</td>\n",
       "      <td>2.000000</td>\n",
       "      <td>165.000000</td>\n",
       "      <td>3.000000</td>\n",
       "      <td>1.125000e+03</td>\n",
       "      <td>16.000000</td>\n",
       "    </tr>\n",
       "    <tr>\n",
       "      <td>max</td>\n",
       "      <td>100.000000</td>\n",
       "      <td>100.000000</td>\n",
       "      <td>480.000000</td>\n",
       "      <td>38.996382</td>\n",
       "      <td>-76.913137</td>\n",
       "      <td>2.000000</td>\n",
       "      <td>16.000000</td>\n",
       "      <td>8.000000</td>\n",
       "      <td>10.000000</td>\n",
       "      <td>16.000000</td>\n",
       "      <td>2822.000000</td>\n",
       "      <td>180.000000</td>\n",
       "      <td>9.999999e+06</td>\n",
       "      <td>362.000000</td>\n",
       "    </tr>\n",
       "  </tbody>\n",
       "</table>\n",
       "</div>"
      ],
      "text/plain": [
       "       host_response_rate  host_acceptance_rate  host_listings_count  \\\n",
       "count         3723.000000           3723.000000          3723.000000   \n",
       "mean            91.327693             86.295729            13.517325   \n",
       "std             14.009537             19.399858            64.534408   \n",
       "min              7.000000              0.000000             1.000000   \n",
       "25%             90.000000             85.000000             1.000000   \n",
       "50%             99.000000             92.000000             1.000000   \n",
       "75%            100.000000            100.000000             3.000000   \n",
       "max            100.000000            100.000000           480.000000   \n",
       "\n",
       "          latitude    longitude    room_type  accommodates    bathrooms  \\\n",
       "count  3723.000000  3723.000000  3723.000000   3723.000000  3723.000000   \n",
       "mean     38.913967   -77.023294     1.622348      3.195004     1.254499   \n",
       "std       0.021647     0.026951     0.538427      2.012216     0.583816   \n",
       "min      38.825061   -77.110525     0.000000      1.000000     0.000000   \n",
       "25%      38.901789   -77.039859     1.000000      2.000000     1.000000   \n",
       "50%      38.913375   -77.026410     2.000000      2.000000     1.000000   \n",
       "75%      38.926509   -77.002798     2.000000      4.000000     1.000000   \n",
       "max      38.996382   -76.913137     2.000000     16.000000     8.000000   \n",
       "\n",
       "          bedrooms         beds        price  minimum_nights  maximum_nights  \\\n",
       "count  3723.000000  3723.000000  3723.000000     3723.000000    3.723000e+03   \n",
       "mean      1.208971     1.641418   149.165995        2.250067    3.491788e+03   \n",
       "std       0.837626     1.180885   140.110699        3.622879    1.638860e+05   \n",
       "min       0.000000     1.000000    10.000000        1.000000    1.000000e+00   \n",
       "25%       1.000000     1.000000    85.000000        1.000000    1.200000e+02   \n",
       "50%       1.000000     1.000000   115.000000        2.000000    1.125000e+03   \n",
       "75%       1.000000     2.000000   165.000000        3.000000    1.125000e+03   \n",
       "max      10.000000    16.000000  2822.000000      180.000000    9.999999e+06   \n",
       "\n",
       "       number_of_reviews  \n",
       "count        3723.000000  \n",
       "mean           15.306742  \n",
       "std            29.645586  \n",
       "min             0.000000  \n",
       "25%             1.000000  \n",
       "50%             4.000000  \n",
       "75%            16.000000  \n",
       "max           362.000000  "
      ]
     },
     "execution_count": 17,
     "metadata": {},
     "output_type": "execute_result"
    }
   ],
   "source": [
    "d_frame1.describe()"
   ]
  },
  {
   "cell_type": "code",
   "execution_count": 18,
   "metadata": {},
   "outputs": [],
   "source": [
    "df_city=pd.get_dummies(d_frame1[\"city\"])"
   ]
  },
  {
   "cell_type": "code",
   "execution_count": 19,
   "metadata": {
    "scrolled": true
   },
   "outputs": [
    {
     "data": {
      "text/html": [
       "<div>\n",
       "<style scoped>\n",
       "    .dataframe tbody tr th:only-of-type {\n",
       "        vertical-align: middle;\n",
       "    }\n",
       "\n",
       "    .dataframe tbody tr th {\n",
       "        vertical-align: top;\n",
       "    }\n",
       "\n",
       "    .dataframe thead th {\n",
       "        text-align: right;\n",
       "    }\n",
       "</style>\n",
       "<table border=\"1\" class=\"dataframe\">\n",
       "  <thead>\n",
       "    <tr style=\"text-align: right;\">\n",
       "      <th></th>\n",
       "      <th>host_response_rate</th>\n",
       "      <th>host_acceptance_rate</th>\n",
       "      <th>host_listings_count</th>\n",
       "      <th>latitude</th>\n",
       "      <th>longitude</th>\n",
       "      <th>room_type</th>\n",
       "      <th>accommodates</th>\n",
       "      <th>bathrooms</th>\n",
       "      <th>bedrooms</th>\n",
       "      <th>beds</th>\n",
       "      <th>minimum_nights</th>\n",
       "      <th>maximum_nights</th>\n",
       "      <th>number_of_reviews</th>\n",
       "    </tr>\n",
       "  </thead>\n",
       "  <tbody>\n",
       "    <tr>\n",
       "      <td>0</td>\n",
       "      <td>92.0</td>\n",
       "      <td>91.0</td>\n",
       "      <td>26</td>\n",
       "      <td>38.890046</td>\n",
       "      <td>-77.002808</td>\n",
       "      <td>2</td>\n",
       "      <td>4</td>\n",
       "      <td>1.0</td>\n",
       "      <td>1.0</td>\n",
       "      <td>2.0</td>\n",
       "      <td>1</td>\n",
       "      <td>1125</td>\n",
       "      <td>0</td>\n",
       "    </tr>\n",
       "    <tr>\n",
       "      <td>1</td>\n",
       "      <td>90.0</td>\n",
       "      <td>100.0</td>\n",
       "      <td>1</td>\n",
       "      <td>38.880413</td>\n",
       "      <td>-76.990485</td>\n",
       "      <td>2</td>\n",
       "      <td>6</td>\n",
       "      <td>3.0</td>\n",
       "      <td>3.0</td>\n",
       "      <td>3.0</td>\n",
       "      <td>2</td>\n",
       "      <td>30</td>\n",
       "      <td>65</td>\n",
       "    </tr>\n",
       "    <tr>\n",
       "      <td>2</td>\n",
       "      <td>90.0</td>\n",
       "      <td>100.0</td>\n",
       "      <td>2</td>\n",
       "      <td>38.955291</td>\n",
       "      <td>-76.986006</td>\n",
       "      <td>1</td>\n",
       "      <td>1</td>\n",
       "      <td>2.0</td>\n",
       "      <td>1.0</td>\n",
       "      <td>1.0</td>\n",
       "      <td>2</td>\n",
       "      <td>1125</td>\n",
       "      <td>1</td>\n",
       "    </tr>\n",
       "    <tr>\n",
       "      <td>3</td>\n",
       "      <td>100.0</td>\n",
       "      <td>86.0</td>\n",
       "      <td>1</td>\n",
       "      <td>38.872134</td>\n",
       "      <td>-77.019639</td>\n",
       "      <td>1</td>\n",
       "      <td>2</td>\n",
       "      <td>1.0</td>\n",
       "      <td>1.0</td>\n",
       "      <td>1.0</td>\n",
       "      <td>1</td>\n",
       "      <td>1125</td>\n",
       "      <td>0</td>\n",
       "    </tr>\n",
       "    <tr>\n",
       "      <td>4</td>\n",
       "      <td>92.0</td>\n",
       "      <td>67.0</td>\n",
       "      <td>1</td>\n",
       "      <td>38.996382</td>\n",
       "      <td>-77.041541</td>\n",
       "      <td>2</td>\n",
       "      <td>4</td>\n",
       "      <td>1.0</td>\n",
       "      <td>1.0</td>\n",
       "      <td>1.0</td>\n",
       "      <td>7</td>\n",
       "      <td>1125</td>\n",
       "      <td>0</td>\n",
       "    </tr>\n",
       "    <tr>\n",
       "      <td>...</td>\n",
       "      <td>...</td>\n",
       "      <td>...</td>\n",
       "      <td>...</td>\n",
       "      <td>...</td>\n",
       "      <td>...</td>\n",
       "      <td>...</td>\n",
       "      <td>...</td>\n",
       "      <td>...</td>\n",
       "      <td>...</td>\n",
       "      <td>...</td>\n",
       "      <td>...</td>\n",
       "      <td>...</td>\n",
       "      <td>...</td>\n",
       "    </tr>\n",
       "    <tr>\n",
       "      <td>3718</td>\n",
       "      <td>100.0</td>\n",
       "      <td>60.0</td>\n",
       "      <td>1</td>\n",
       "      <td>38.885492</td>\n",
       "      <td>-76.987765</td>\n",
       "      <td>2</td>\n",
       "      <td>4</td>\n",
       "      <td>1.0</td>\n",
       "      <td>1.0</td>\n",
       "      <td>2.0</td>\n",
       "      <td>3</td>\n",
       "      <td>60</td>\n",
       "      <td>19</td>\n",
       "    </tr>\n",
       "    <tr>\n",
       "      <td>3719</td>\n",
       "      <td>100.0</td>\n",
       "      <td>50.0</td>\n",
       "      <td>1</td>\n",
       "      <td>38.889401</td>\n",
       "      <td>-76.986646</td>\n",
       "      <td>1</td>\n",
       "      <td>2</td>\n",
       "      <td>2.0</td>\n",
       "      <td>1.0</td>\n",
       "      <td>1.0</td>\n",
       "      <td>3</td>\n",
       "      <td>365</td>\n",
       "      <td>36</td>\n",
       "    </tr>\n",
       "    <tr>\n",
       "      <td>3720</td>\n",
       "      <td>100.0</td>\n",
       "      <td>100.0</td>\n",
       "      <td>2</td>\n",
       "      <td>38.889533</td>\n",
       "      <td>-77.001010</td>\n",
       "      <td>2</td>\n",
       "      <td>6</td>\n",
       "      <td>1.0</td>\n",
       "      <td>2.0</td>\n",
       "      <td>3.0</td>\n",
       "      <td>2</td>\n",
       "      <td>1125</td>\n",
       "      <td>12</td>\n",
       "    </tr>\n",
       "    <tr>\n",
       "      <td>3721</td>\n",
       "      <td>88.0</td>\n",
       "      <td>100.0</td>\n",
       "      <td>1</td>\n",
       "      <td>38.890815</td>\n",
       "      <td>-77.002283</td>\n",
       "      <td>2</td>\n",
       "      <td>2</td>\n",
       "      <td>1.0</td>\n",
       "      <td>1.0</td>\n",
       "      <td>1.0</td>\n",
       "      <td>2</td>\n",
       "      <td>21</td>\n",
       "      <td>48</td>\n",
       "    </tr>\n",
       "    <tr>\n",
       "      <td>3722</td>\n",
       "      <td>70.0</td>\n",
       "      <td>100.0</td>\n",
       "      <td>1</td>\n",
       "      <td>38.883646</td>\n",
       "      <td>-76.999810</td>\n",
       "      <td>2</td>\n",
       "      <td>3</td>\n",
       "      <td>1.0</td>\n",
       "      <td>0.0</td>\n",
       "      <td>1.0</td>\n",
       "      <td>2</td>\n",
       "      <td>1125</td>\n",
       "      <td>1</td>\n",
       "    </tr>\n",
       "  </tbody>\n",
       "</table>\n",
       "<p>3723 rows × 13 columns</p>\n",
       "</div>"
      ],
      "text/plain": [
       "      host_response_rate  host_acceptance_rate  host_listings_count  \\\n",
       "0                   92.0                  91.0                   26   \n",
       "1                   90.0                 100.0                    1   \n",
       "2                   90.0                 100.0                    2   \n",
       "3                  100.0                  86.0                    1   \n",
       "4                   92.0                  67.0                    1   \n",
       "...                  ...                   ...                  ...   \n",
       "3718               100.0                  60.0                    1   \n",
       "3719               100.0                  50.0                    1   \n",
       "3720               100.0                 100.0                    2   \n",
       "3721                88.0                 100.0                    1   \n",
       "3722                70.0                 100.0                    1   \n",
       "\n",
       "       latitude  longitude  room_type  accommodates  bathrooms  bedrooms  \\\n",
       "0     38.890046 -77.002808          2             4        1.0       1.0   \n",
       "1     38.880413 -76.990485          2             6        3.0       3.0   \n",
       "2     38.955291 -76.986006          1             1        2.0       1.0   \n",
       "3     38.872134 -77.019639          1             2        1.0       1.0   \n",
       "4     38.996382 -77.041541          2             4        1.0       1.0   \n",
       "...         ...        ...        ...           ...        ...       ...   \n",
       "3718  38.885492 -76.987765          2             4        1.0       1.0   \n",
       "3719  38.889401 -76.986646          1             2        2.0       1.0   \n",
       "3720  38.889533 -77.001010          2             6        1.0       2.0   \n",
       "3721  38.890815 -77.002283          2             2        1.0       1.0   \n",
       "3722  38.883646 -76.999810          2             3        1.0       0.0   \n",
       "\n",
       "      beds  minimum_nights  maximum_nights  number_of_reviews  \n",
       "0      2.0               1            1125                  0  \n",
       "1      3.0               2              30                 65  \n",
       "2      1.0               2            1125                  1  \n",
       "3      1.0               1            1125                  0  \n",
       "4      1.0               7            1125                  0  \n",
       "...    ...             ...             ...                ...  \n",
       "3718   2.0               3              60                 19  \n",
       "3719   1.0               3             365                 36  \n",
       "3720   3.0               2            1125                 12  \n",
       "3721   1.0               2              21                 48  \n",
       "3722   1.0               2            1125                  1  \n",
       "\n",
       "[3723 rows x 13 columns]"
      ]
     },
     "execution_count": 19,
     "metadata": {},
     "output_type": "execute_result"
    }
   ],
   "source": [
    "d_frame1.drop(['city','state','price'],axis=1)"
   ]
  },
  {
   "cell_type": "code",
   "execution_count": 20,
   "metadata": {
    "scrolled": false
   },
   "outputs": [],
   "source": [
    "df_formation=d_frame1.drop(['city','state','price'],axis=1)\n",
    "X=pd.concat([df_formation,df_city],axis=1)\n",
    "y=d_frame1[['price']]"
   ]
  },
  {
   "cell_type": "code",
   "execution_count": 21,
   "metadata": {},
   "outputs": [],
   "source": [
    "from sklearn.model_selection import train_test_split\n",
    "X_train,X_test,y_train,y_test=train_test_split(X,y, test_size=0.20, random_state=23)"
   ]
  },
  {
   "cell_type": "code",
   "execution_count": 22,
   "metadata": {},
   "outputs": [],
   "source": [
    "from sklearn.neighbors import KNeighborsRegressor\n",
    "from sklearn.preprocessing import StandardScaler\n",
    "from sklearn.metrics import f1_score\n",
    "from sklearn.metrics import mean_squared_error"
   ]
  },
  {
   "cell_type": "markdown",
   "metadata": {},
   "source": [
    "## Standard Scaling"
   ]
  },
  {
   "cell_type": "code",
   "execution_count": 23,
   "metadata": {},
   "outputs": [],
   "source": [
    "# scaling the feature\n",
    "Stand_scaler=StandardScaler()\n",
    "X_train_std=Stand_scaler.fit_transform(X_train)\n",
    "X_test_std=Stand_scaler.fit_transform(X_test)"
   ]
  },
  {
   "cell_type": "code",
   "execution_count": 24,
   "metadata": {},
   "outputs": [
    {
     "data": {
      "text/plain": [
       "27"
      ]
     },
     "execution_count": 24,
     "metadata": {},
     "output_type": "execute_result"
    }
   ],
   "source": [
    "len(X_test_std) # or X_test.shape[0]\n",
    "int(np.sqrt(len(X_test_std)))"
   ]
  },
  {
   "cell_type": "code",
   "execution_count": 25,
   "metadata": {},
   "outputs": [],
   "source": [
    "classifier_model=KNeighborsRegressor(n_neighbors=27 ,p=2, metric='euclidean')"
   ]
  },
  {
   "cell_type": "code",
   "execution_count": 26,
   "metadata": {},
   "outputs": [
    {
     "data": {
      "text/plain": [
       "KNeighborsRegressor(algorithm='auto', leaf_size=30, metric='euclidean',\n",
       "                    metric_params=None, n_jobs=None, n_neighbors=27, p=2,\n",
       "                    weights='uniform')"
      ]
     },
     "execution_count": 26,
     "metadata": {},
     "output_type": "execute_result"
    }
   ],
   "source": [
    "classifier_model.fit(X_train_std,y_train)"
   ]
  },
  {
   "cell_type": "code",
   "execution_count": 27,
   "metadata": {},
   "outputs": [
    {
     "name": "stdout",
     "output_type": "stream",
     "text": [
      "16653.384312425773\n"
     ]
    }
   ],
   "source": [
    "y_pred=classifier_model.predict(X_test_std)\n",
    "print(mean_squared_error(y_test, y_pred))"
   ]
  },
  {
   "cell_type": "code",
   "execution_count": 28,
   "metadata": {},
   "outputs": [],
   "source": [
    "y_test.reset_index(inplace = True, drop = True) \n",
    "y_test.columns=['actual_price']"
   ]
  },
  {
   "cell_type": "code",
   "execution_count": 29,
   "metadata": {
    "scrolled": false
   },
   "outputs": [
    {
     "data": {
      "text/html": [
       "<div>\n",
       "<style scoped>\n",
       "    .dataframe tbody tr th:only-of-type {\n",
       "        vertical-align: middle;\n",
       "    }\n",
       "\n",
       "    .dataframe tbody tr th {\n",
       "        vertical-align: top;\n",
       "    }\n",
       "\n",
       "    .dataframe thead th {\n",
       "        text-align: right;\n",
       "    }\n",
       "</style>\n",
       "<table border=\"1\" class=\"dataframe\">\n",
       "  <thead>\n",
       "    <tr style=\"text-align: right;\">\n",
       "      <th></th>\n",
       "      <th>actual_price</th>\n",
       "      <th>predicted_price</th>\n",
       "    </tr>\n",
       "  </thead>\n",
       "  <tbody>\n",
       "    <tr>\n",
       "      <td>0</td>\n",
       "      <td>130.0</td>\n",
       "      <td>124.370370</td>\n",
       "    </tr>\n",
       "    <tr>\n",
       "      <td>1</td>\n",
       "      <td>105.0</td>\n",
       "      <td>108.370370</td>\n",
       "    </tr>\n",
       "    <tr>\n",
       "      <td>2</td>\n",
       "      <td>350.0</td>\n",
       "      <td>360.703704</td>\n",
       "    </tr>\n",
       "    <tr>\n",
       "      <td>3</td>\n",
       "      <td>350.0</td>\n",
       "      <td>459.740741</td>\n",
       "    </tr>\n",
       "    <tr>\n",
       "      <td>4</td>\n",
       "      <td>105.0</td>\n",
       "      <td>130.370370</td>\n",
       "    </tr>\n",
       "  </tbody>\n",
       "</table>\n",
       "</div>"
      ],
      "text/plain": [
       "   actual_price  predicted_price\n",
       "0         130.0       124.370370\n",
       "1         105.0       108.370370\n",
       "2         350.0       360.703704\n",
       "3         350.0       459.740741\n",
       "4         105.0       130.370370"
      ]
     },
     "execution_count": 29,
     "metadata": {},
     "output_type": "execute_result"
    }
   ],
   "source": [
    "y_predict=pd.DataFrame(y_pred,columns=['predicted_price'])\n",
    "pd.concat([y_test,y_predict],axis=1).head(5)"
   ]
  },
  {
   "cell_type": "markdown",
   "metadata": {},
   "source": [
    "## min max scaling"
   ]
  },
  {
   "cell_type": "code",
   "execution_count": 30,
   "metadata": {},
   "outputs": [],
   "source": [
    "from sklearn.preprocessing import MinMaxScaler\n",
    "# scaling the feature\n",
    "MMscaler=MinMaxScaler()\n",
    "X_train_MM=MMscaler.fit_transform(X_train)\n",
    "X_test_MM=MMscaler.fit_transform(X_test)"
   ]
  },
  {
   "cell_type": "code",
   "execution_count": 31,
   "metadata": {},
   "outputs": [
    {
     "data": {
      "text/plain": [
       "KNeighborsRegressor(algorithm='auto', leaf_size=30, metric='euclidean',\n",
       "                    metric_params=None, n_jobs=None, n_neighbors=27, p=2,\n",
       "                    weights='uniform')"
      ]
     },
     "execution_count": 31,
     "metadata": {},
     "output_type": "execute_result"
    }
   ],
   "source": [
    "classifier_model=KNeighborsRegressor(n_neighbors=27 ,p=2, metric='euclidean')\n",
    "classifier_model.fit(X_train_MM,y_train)"
   ]
  },
  {
   "cell_type": "code",
   "execution_count": 32,
   "metadata": {},
   "outputs": [
    {
     "name": "stdout",
     "output_type": "stream",
     "text": [
      "17034.063823754157\n"
     ]
    }
   ],
   "source": [
    "y_pred_MM=classifier_model.predict(X_test_MM)\n",
    "print(mean_squared_error(y_test, y_pred_MM))"
   ]
  },
  {
   "cell_type": "code",
   "execution_count": 33,
   "metadata": {},
   "outputs": [],
   "source": [
    "from sklearn import neighbors\n",
    "from sklearn.metrics import mean_squared_error\n",
    "%matplotlib inline"
   ]
  },
  {
   "cell_type": "code",
   "execution_count": 34,
   "metadata": {},
   "outputs": [
    {
     "name": "stdout",
     "output_type": "stream",
     "text": [
      "RMSE value for k=  2 is: 173.38337859539584\n",
      "RMSE value for k=  3 is: 155.84531184147932\n",
      "RMSE value for k=  4 is: 142.32711695764974\n",
      "RMSE value for k=  5 is: 138.147035373729\n",
      "RMSE value for k=  6 is: 137.28663059849907\n",
      "RMSE value for k=  7 is: 137.67304883017343\n",
      "RMSE value for k=  8 is: 134.26899189836305\n",
      "RMSE value for k=  9 is: 133.28261246309037\n",
      "RMSE value for k=  10 is: 131.78419791003756\n",
      "RMSE value for k=  11 is: 131.15284522784657\n",
      "RMSE value for k=  12 is: 131.52564074781688\n",
      "RMSE value for k=  13 is: 131.24534127068256\n",
      "RMSE value for k=  14 is: 130.91456723578264\n",
      "RMSE value for k=  15 is: 131.10041720566292\n",
      "RMSE value for k=  16 is: 131.3548965215403\n",
      "RMSE value for k=  17 is: 131.13477074121215\n",
      "RMSE value for k=  18 is: 130.3900306146351\n",
      "RMSE value for k=  19 is: 131.04476526179556\n",
      "RMSE value for k=  20 is: 130.90335247013144\n",
      "RMSE value for k=  21 is: 130.88492652415738\n",
      "RMSE value for k=  22 is: 130.5716385465191\n",
      "RMSE value for k=  23 is: 130.8188726252735\n",
      "RMSE value for k=  24 is: 130.61496185593134\n",
      "RMSE value for k=  25 is: 130.35299548101105\n",
      "RMSE value for k=  26 is: 130.26069495352627\n",
      "RMSE value for k=  27 is: 130.51461153355265\n",
      "RMSE value for k=  28 is: 130.93708235907542\n",
      "RMSE value for k=  29 is: 131.12224294111147\n",
      "RMSE value for k=  30 is: 130.55470145340752\n",
      "RMSE value for k=  31 is: 130.81131089164327\n",
      "RMSE value for k=  32 is: 131.06096193965226\n",
      "RMSE value for k=  33 is: 131.35881856660785\n",
      "RMSE value for k=  34 is: 131.43544249111267\n",
      "RMSE value for k=  35 is: 131.3680945062832\n",
      "RMSE value for k=  36 is: 131.64162860510586\n",
      "RMSE value for k=  37 is: 131.63118069183997\n",
      "RMSE value for k=  38 is: 131.70066238011225\n",
      "RMSE value for k=  39 is: 131.8110429323835\n",
      "RMSE value for k=  40 is: 131.81704192533795\n",
      "RMSE value for k=  41 is: 131.70956725250238\n",
      "RMSE value for k=  42 is: 131.81063326336044\n",
      "RMSE value for k=  43 is: 131.9532314544413\n",
      "RMSE value for k=  44 is: 131.68191418956133\n",
      "RMSE value for k=  45 is: 131.7616991220855\n",
      "RMSE value for k=  46 is: 131.75261236594758\n",
      "RMSE value for k=  47 is: 131.71426603350844\n",
      "RMSE value for k=  48 is: 131.82647406947532\n",
      "RMSE value for k=  49 is: 131.90832372659514\n",
      "RMSE value for k=  50 is: 132.06966895437466\n",
      "RMSE value for k=  51 is: 131.7014696468984\n",
      "RMSE value for k=  52 is: 131.94938521090367\n",
      "RMSE value for k=  53 is: 132.1648833968968\n",
      "RMSE value for k=  54 is: 132.27456243661214\n",
      "RMSE value for k=  55 is: 132.33856608082132\n",
      "RMSE value for k=  56 is: 132.49969728039628\n",
      "RMSE value for k=  57 is: 132.5705758280547\n",
      "RMSE value for k=  58 is: 132.55524701512275\n",
      "RMSE value for k=  59 is: 132.45716183943807\n",
      "RMSE value for k=  60 is: 132.50177096729894\n",
      "RMSE value for k=  61 is: 132.71693517039088\n",
      "RMSE value for k=  62 is: 132.6382150850858\n",
      "RMSE value for k=  63 is: 132.78332269887886\n",
      "RMSE value for k=  64 is: 132.83718311641633\n",
      "RMSE value for k=  65 is: 132.91008697211402\n",
      "RMSE value for k=  66 is: 132.99050263107748\n",
      "RMSE value for k=  67 is: 133.08797020498352\n",
      "RMSE value for k=  68 is: 133.10491712417843\n",
      "RMSE value for k=  69 is: 132.94137410251156\n",
      "RMSE value for k=  70 is: 132.98992704326628\n",
      "RMSE value for k=  71 is: 132.8937122681867\n",
      "RMSE value for k=  72 is: 132.8745473953281\n",
      "RMSE value for k=  73 is: 132.97995391897763\n",
      "RMSE value for k=  74 is: 132.95225523109994\n",
      "RMSE value for k=  75 is: 132.97359586293388\n",
      "RMSE value for k=  76 is: 133.11671248619896\n",
      "RMSE value for k=  77 is: 133.1760216285344\n",
      "RMSE value for k=  78 is: 133.24817389197094\n",
      "RMSE value for k=  79 is: 133.34127048361515\n",
      "RMSE value for k=  80 is: 133.12365318189435\n",
      "RMSE value for k=  81 is: 133.1505246704372\n",
      "RMSE value for k=  82 is: 133.16197190343783\n",
      "RMSE value for k=  83 is: 133.22529247721405\n",
      "RMSE value for k=  84 is: 133.0766812618071\n",
      "RMSE value for k=  85 is: 133.16286211212582\n",
      "RMSE value for k=  86 is: 133.0298741512834\n",
      "RMSE value for k=  87 is: 133.11343600398254\n",
      "RMSE value for k=  88 is: 133.12790820788032\n",
      "RMSE value for k=  89 is: 133.14178625743517\n",
      "RMSE value for k=  90 is: 133.18603050626248\n",
      "RMSE value for k=  91 is: 133.0531311758728\n",
      "RMSE value for k=  92 is: 133.07003316575546\n",
      "RMSE value for k=  93 is: 133.1759340598695\n",
      "RMSE value for k=  94 is: 133.1893580490251\n",
      "RMSE value for k=  95 is: 133.34981298264523\n",
      "RMSE value for k=  96 is: 133.36614810417666\n",
      "RMSE value for k=  97 is: 133.24688644857622\n",
      "RMSE value for k=  98 is: 133.31348332990817\n",
      "RMSE value for k=  99 is: 133.21814514121985\n",
      "RMSE value for k=  100 is: 133.2049292394665\n"
     ]
    }
   ],
   "source": [
    "rmse_val = [] #to store rmse values for different k\n",
    "for k in range(1,100):\n",
    "    k = k+1\n",
    "    model = neighbors.KNeighborsRegressor(n_neighbors = k)\n",
    "\n",
    "    model.fit(X_train_MM, y_train)  #fit the model\n",
    "    pred=model.predict(X_test_MM) #make prediction on test set\n",
    "    error = np.sqrt(mean_squared_error(y_test,pred)) #calculate rmse\n",
    "    rmse_val.append(error) #store rmse values\n",
    "    print('RMSE value for k= ' , k , 'is:', error)"
   ]
  },
  {
   "cell_type": "code",
   "execution_count": 35,
   "metadata": {},
   "outputs": [
    {
     "data": {
      "text/plain": [
       "<matplotlib.axes._subplots.AxesSubplot at 0x16aa8afe148>"
      ]
     },
     "execution_count": 35,
     "metadata": {},
     "output_type": "execute_result"
    },
    {
     "data": {
      "image/png": "[encoded data removed]",
      "text/plain": [
       "<Figure size 432x288 with 1 Axes>"
      ]
     },
     "metadata": {
      "needs_background": "light"
     },
     "output_type": "display_data"
    }
   ],
   "source": [
    "#plotting the rmse values against k values\n",
    "curve = pd.DataFrame(rmse_val) #elbow curve \n",
    "curve.plot()"
   ]
  },
  {
   "cell_type": "code",
   "execution_count": 36,
   "metadata": {},
   "outputs": [
    {
     "data": {
      "text/plain": [
       "{'n_neighbors': 20}"
      ]
     },
     "execution_count": 36,
     "metadata": {},
     "output_type": "execute_result"
    }
   ],
   "source": [
    "from sklearn.model_selection import GridSearchCV\n",
    "params = {'n_neighbors':range(1,50)}\n",
    "\n",
    "knn = neighbors.KNeighborsRegressor()\n",
    "\n",
    "model = GridSearchCV(knn, params, cv=5)\n",
    "model.fit(X_train_MM,y_train)\n",
    "model.best_params_"
   ]
  }
 ],
 "metadata": {
  "kernelspec": {
   "display_name": "Python 3",
   "language": "python",
   "name": "python3"
  },
  "language_info": {
   "codemirror_mode": {
    "name": "ipython",
    "version": 3
   },
   "file_extension": ".py",
   "mimetype": "text/x-python",
   "name": "python",
   "nbconvert_exporter": "python",
   "pygments_lexer": "ipython3",
   "version": "3.7.4"
  }
 },
 "nbformat": 4,
 "nbformat_minor": 2
}
